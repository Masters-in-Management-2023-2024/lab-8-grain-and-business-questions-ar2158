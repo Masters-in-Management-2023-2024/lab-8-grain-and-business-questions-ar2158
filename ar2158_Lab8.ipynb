{
  "cells": [
    {
      "cell_type": "markdown",
      "metadata": {
        "id": "aOKtXDp_5asz"
      },
      "source": [
        "# Diamond Company Analytics Challenge\n",
        "\n",
        "**Time:** 35 minutes\n",
        "\n",
        "**Scenario:** You are the new data analyst at a prestigious diamond company. The CEO has called an urgent meeting and needs answers to critical business questions about the inventory.\n",
        "\n",
        "**Your Mission:** Analyze the diamond inventory data and provide insights to guide strategic decisions."
      ]
    },
    {
      "cell_type": "code",
      "execution_count": 12,
      "metadata": {
        "colab": {
          "base_uri": "https://localhost:8080/"
        },
        "id": "bn2btmqO5as0",
        "outputId": "7d20aafd-96ea-46e2-db02-b55b12e94cfb"
      },
      "outputs": [
        {
          "output_type": "stream",
          "name": "stdout",
          "text": [
            "Loading diamonds dataset...\n",
            "Dataset loaded successfully!\n"
          ]
        }
      ],
      "source": [
        "import polars as pl\n",
        "\n",
        "# Load the diamonds dataset\n",
        "print(\"Loading diamonds dataset...\")\n",
        "df = pl.read_csv('https://raw.githubusercontent.com/pycaret/pycaret/master/datasets/diamond.csv')\n",
        "print(\"Dataset loaded successfully!\")"
      ]
    },
    {
      "cell_type": "markdown",
      "metadata": {
        "id": "3ccTJ5Ws5as1"
      },
      "source": [
        "## Section 1: Initial Inventory Assessment (5 minutes)\n",
        "\n",
        "The CEO walks in: \"Before we dive into specifics, I need to understand what we're working with. Give me the basics about our inventory database.\""
      ]
    },
    {
      "cell_type": "markdown",
      "metadata": {
        "id": "0gwml6P85as2"
      },
      "source": [
        "### Question 1: \"How extensive is our inventory database?\"\n",
        "\n",
        "The CEO needs to know the scale of data you're analyzing."
      ]
    },
    {
      "cell_type": "code",
      "source": [
        "df.head()"
      ],
      "metadata": {
        "colab": {
          "base_uri": "https://localhost:8080/",
          "height": 255
        },
        "id": "mmuYuXwI65rd",
        "outputId": "59aefba8-7326-49c1-e1be-7d1cc7061049"
      },
      "execution_count": 13,
      "outputs": [
        {
          "output_type": "execute_result",
          "data": {
            "text/plain": [
              "shape: (5, 8)\n",
              "┌──────────────┬───────┬───────┬─────────┬────────┬──────────┬────────┬───────┐\n",
              "│ Carat Weight ┆ Cut   ┆ Color ┆ Clarity ┆ Polish ┆ Symmetry ┆ Report ┆ Price │\n",
              "│ ---          ┆ ---   ┆ ---   ┆ ---     ┆ ---    ┆ ---      ┆ ---    ┆ ---   │\n",
              "│ f64          ┆ str   ┆ str   ┆ str     ┆ str    ┆ str      ┆ str    ┆ i64   │\n",
              "╞══════════════╪═══════╪═══════╪═════════╪════════╪══════════╪════════╪═══════╡\n",
              "│ 1.1          ┆ Ideal ┆ H     ┆ SI1     ┆ VG     ┆ EX       ┆ GIA    ┆ 5169  │\n",
              "│ 0.83         ┆ Ideal ┆ H     ┆ VS1     ┆ ID     ┆ ID       ┆ AGSL   ┆ 3470  │\n",
              "│ 0.85         ┆ Ideal ┆ H     ┆ SI1     ┆ EX     ┆ EX       ┆ GIA    ┆ 3183  │\n",
              "│ 0.91         ┆ Ideal ┆ E     ┆ SI1     ┆ VG     ┆ VG       ┆ GIA    ┆ 4370  │\n",
              "│ 0.83         ┆ Ideal ┆ G     ┆ SI1     ┆ EX     ┆ EX       ┆ GIA    ┆ 3171  │\n",
              "└──────────────┴───────┴───────┴─────────┴────────┴──────────┴────────┴───────┘"
            ],
            "text/html": [
              "<div><style>\n",
              ".dataframe > thead > tr,\n",
              ".dataframe > tbody > tr {\n",
              "  text-align: right;\n",
              "  white-space: pre-wrap;\n",
              "}\n",
              "</style>\n",
              "<small>shape: (5, 8)</small><table border=\"1\" class=\"dataframe\"><thead><tr><th>Carat Weight</th><th>Cut</th><th>Color</th><th>Clarity</th><th>Polish</th><th>Symmetry</th><th>Report</th><th>Price</th></tr><tr><td>f64</td><td>str</td><td>str</td><td>str</td><td>str</td><td>str</td><td>str</td><td>i64</td></tr></thead><tbody><tr><td>1.1</td><td>&quot;Ideal&quot;</td><td>&quot;H&quot;</td><td>&quot;SI1&quot;</td><td>&quot;VG&quot;</td><td>&quot;EX&quot;</td><td>&quot;GIA&quot;</td><td>5169</td></tr><tr><td>0.83</td><td>&quot;Ideal&quot;</td><td>&quot;H&quot;</td><td>&quot;VS1&quot;</td><td>&quot;ID&quot;</td><td>&quot;ID&quot;</td><td>&quot;AGSL&quot;</td><td>3470</td></tr><tr><td>0.85</td><td>&quot;Ideal&quot;</td><td>&quot;H&quot;</td><td>&quot;SI1&quot;</td><td>&quot;EX&quot;</td><td>&quot;EX&quot;</td><td>&quot;GIA&quot;</td><td>3183</td></tr><tr><td>0.91</td><td>&quot;Ideal&quot;</td><td>&quot;E&quot;</td><td>&quot;SI1&quot;</td><td>&quot;VG&quot;</td><td>&quot;VG&quot;</td><td>&quot;GIA&quot;</td><td>4370</td></tr><tr><td>0.83</td><td>&quot;Ideal&quot;</td><td>&quot;G&quot;</td><td>&quot;SI1&quot;</td><td>&quot;EX&quot;</td><td>&quot;EX&quot;</td><td>&quot;GIA&quot;</td><td>3171</td></tr></tbody></table></div>"
            ]
          },
          "metadata": {},
          "execution_count": 13
        }
      ]
    },
    {
      "cell_type": "code",
      "execution_count": 14,
      "metadata": {
        "colab": {
          "base_uri": "https://localhost:8080/"
        },
        "id": "XgVlgY225as2",
        "outputId": "efbf89e8-083a-40ca-b803-625b2c6577b4"
      },
      "outputs": [
        {
          "output_type": "stream",
          "name": "stdout",
          "text": [
            "Shape: (6000, 8)\n"
          ]
        }
      ],
      "source": [
        "# Your code here:\n",
        "print(f\"Shape: {df.shape}\")"
      ]
    },
    {
      "cell_type": "markdown",
      "metadata": {
        "id": "zfGMtsBn5as2"
      },
      "source": [
        "### Question 2: \"What information do we track about each diamond?\"\n",
        "\n",
        "List all the characteristics we record."
      ]
    },
    {
      "cell_type": "code",
      "execution_count": 15,
      "metadata": {
        "colab": {
          "base_uri": "https://localhost:8080/"
        },
        "id": "-9yLyaNz5as2",
        "outputId": "72c593ff-b252-448f-bbf9-ca1c89c03d47"
      },
      "outputs": [
        {
          "output_type": "stream",
          "name": "stdout",
          "text": [
            "Columns: ['Carat Weight', 'Cut', 'Color', 'Clarity', 'Polish', 'Symmetry', 'Report', 'Price']\n"
          ]
        }
      ],
      "source": [
        "# Your code here:\n",
        "print(f\"Columns: {df.columns}\")"
      ]
    },
    {
      "cell_type": "markdown",
      "metadata": {
        "id": "QsxrZM6q5as3"
      },
      "source": [
        "### Question 3: \"When I look at one line in this database, what am I looking at?\"\n",
        "\n",
        "Explain in business terms:\n"
      ]
    },
    {
      "cell_type": "markdown",
      "metadata": {
        "id": "xmwPKrk95as3"
      },
      "source": [
        "**Your answer:** Each row represents: a diamond."
      ]
    },
    {
      "cell_type": "markdown",
      "metadata": {
        "id": "KjmE4SPa5as3"
      },
      "source": [
        "## Section 2: Strategic Business Questions (20 minutes)\n",
        "\n",
        "The CEO continues: \"Now let's get to the important questions. Our board meeting is tomorrow and I need concrete numbers.\""
      ]
    },
    {
      "cell_type": "markdown",
      "metadata": {
        "id": "TPGRwtXv5as3"
      },
      "source": [
        "### Question 4: \"We're considering expanding our storage facilities. How many total carats do we have in inventory? I need to know if our vaults can handle the weight.\"\n",
        "\n",
        "Think about what measurement would help answer this."
      ]
    },
    {
      "cell_type": "code",
      "execution_count": 16,
      "metadata": {
        "id": "AWQKImFc5as3",
        "colab": {
          "base_uri": "https://localhost:8080/"
        },
        "outputId": "c24770a2-33b1-48df-aeb0-9964d7f4ab45"
      },
      "outputs": [
        {
          "output_type": "stream",
          "name": "stdout",
          "text": [
            "Total carat weight of all diamonds: 8,007.12 ct\n"
          ]
        }
      ],
      "source": [
        "# Your code here:\n",
        "total_carat = df.select(pl.col(\"Carat Weight\").sum()).item()\n",
        "print(f\"Total carat weight of all diamonds: {total_carat:,.2f} ct\")"
      ]
    },
    {
      "cell_type": "markdown",
      "metadata": {
        "id": "xBpWd65o5as4"
      },
      "source": [
        "### Question 5: \"Our new marketing campaign claims we have 'the widest variety of cuts in the industry.' Can you verify this?\"\n",
        "\n",
        "The CEO wants to know about variety, not quantity."
      ]
    },
    {
      "cell_type": "code",
      "execution_count": 17,
      "metadata": {
        "id": "pXZG8AT75as4",
        "colab": {
          "base_uri": "https://localhost:8080/"
        },
        "outputId": "ef7d2cd7-81a7-408b-8233-ecb9e49a10e1"
      },
      "outputs": [
        {
          "output_type": "stream",
          "name": "stdout",
          "text": [
            "Number of cuts: 5 and are: ['Fair', 'Good', 'Ideal', 'Signature-Ideal', 'Very Good']\n"
          ]
        }
      ],
      "source": [
        "# Your code here:\n",
        "unique_values = df.select(pl.col(\"Cut\").unique().sort()).to_series().to_list()\n",
        "unique_count = df.select(pl.col(\"Cut\").n_unique()).item()\n",
        "print(f\"Number of cuts: {unique_count} and are: {unique_values}\")"
      ]
    },
    {
      "cell_type": "markdown",
      "metadata": {
        "id": "0xx8_WRo5as4"
      },
      "source": [
        "### Question 6: \"I'm meeting with our insurance company. They need to know our price exposure - what's our most and least valuable diamond?\""
      ]
    },
    {
      "cell_type": "code",
      "execution_count": 18,
      "metadata": {
        "id": "tZJVwa825as4",
        "colab": {
          "base_uri": "https://localhost:8080/"
        },
        "outputId": "83bdc92c-60bc-44e3-99fa-101ae9a54159"
      },
      "outputs": [
        {
          "output_type": "stream",
          "name": "stdout",
          "text": [
            "Our most expenseive diamond's price is $101,561.00 and the least expensive's price is $2,184.00\n"
          ]
        }
      ],
      "source": [
        "# Your code here:\n",
        "max_price = df.select(pl.col(\"Price\").max()).item()\n",
        "min_price = df.select(pl.col(\"Price\").min()).item()\n",
        "print(f\"Our most expenseive diamond's price is ${max_price:,.2f} and the least expensive's price is ${min_price:,.2f}\")"
      ]
    },
    {
      "cell_type": "markdown",
      "metadata": {
        "id": "LDLIL5Wi5as4"
      },
      "source": [
        "### Question 7: \"Which color grades should we focus on in our premium line? I need typical prices across our color spectrum.\"\n",
        "\n",
        "The CEO wants to understand pricing patterns."
      ]
    },
    {
      "cell_type": "code",
      "execution_count": 19,
      "metadata": {
        "id": "fF2T5gZ55as4",
        "colab": {
          "base_uri": "https://localhost:8080/",
          "height": 286
        },
        "outputId": "65ebf761-d733-492e-f7bf-4c9cab30eba6"
      },
      "outputs": [
        {
          "output_type": "execute_result",
          "data": {
            "text/plain": [
              "shape: (6, 2)\n",
              "┌───────┬───────────┐\n",
              "│ Color ┆ Avg Price │\n",
              "│ ---   ┆ ---       │\n",
              "│ str   ┆ u32       │\n",
              "╞═══════╪═══════════╡\n",
              "│ H     ┆ 1079      │\n",
              "│ D     ┆ 661       │\n",
              "│ I     ┆ 968       │\n",
              "│ F     ┆ 1013      │\n",
              "│ E     ┆ 778       │\n",
              "│ G     ┆ 1501      │\n",
              "└───────┴───────────┘"
            ],
            "text/html": [
              "<div><style>\n",
              ".dataframe > thead > tr,\n",
              ".dataframe > tbody > tr {\n",
              "  text-align: right;\n",
              "  white-space: pre-wrap;\n",
              "}\n",
              "</style>\n",
              "<small>shape: (6, 2)</small><table border=\"1\" class=\"dataframe\"><thead><tr><th>Color</th><th>Avg Price</th></tr><tr><td>str</td><td>u32</td></tr></thead><tbody><tr><td>&quot;H&quot;</td><td>1079</td></tr><tr><td>&quot;D&quot;</td><td>661</td></tr><tr><td>&quot;I&quot;</td><td>968</td></tr><tr><td>&quot;F&quot;</td><td>1013</td></tr><tr><td>&quot;E&quot;</td><td>778</td></tr><tr><td>&quot;G&quot;</td><td>1501</td></tr></tbody></table></div>"
            ]
          },
          "metadata": {},
          "execution_count": 19
        }
      ],
      "source": [
        "# Your code here:\n",
        "color_prices = df.group_by(pl.col(\"Color\")).agg(pl.col(\"Price\").count().alias(\"Avg Price\"))\n",
        "\n",
        "color_prices"
      ]
    },
    {
      "cell_type": "markdown",
      "metadata": {
        "id": "Cx0338Qy5as4"
      },
      "source": [
        "**Reflection:** After analyzing by color, how has your view of the data changed? What does each row in your result represent now?"
      ]
    },
    {
      "cell_type": "markdown",
      "metadata": {
        "id": "1ReQVC595as4"
      },
      "source": [
        "**Your answer:** New grain = price per color of diamond"
      ]
    },
    {
      "cell_type": "markdown",
      "metadata": {
        "id": "wX-sX6G05as4"
      },
      "source": [
        "## Section 3: Advanced Strategic Analysis (10 minutes)\n",
        "\n",
        "The CEO leans forward: \"These next questions will shape our strategy for next year.\""
      ]
    },
    {
      "cell_type": "markdown",
      "metadata": {
        "id": "YEqUjbfR5as4"
      },
      "source": [
        "### Question 8: \"We're thinking of specializing in certain clarity grades. For our investor deck, I need a complete breakdown showing: how many diamonds we have in each clarity grade, their typical price, and the total carats we're holding for each grade.\""
      ]
    },
    {
      "cell_type": "code",
      "execution_count": 20,
      "metadata": {
        "id": "-h3d2qui5as4",
        "colab": {
          "base_uri": "https://localhost:8080/"
        },
        "outputId": "6ccca74b-d2b0-49c0-f2f1-2bfe184c2c37"
      },
      "outputs": [
        {
          "output_type": "stream",
          "name": "stdout",
          "text": [
            "shape: (7, 4)\n",
            "┌─────────┬───────────────┬───────────┬──────────────┐\n",
            "│ Clarity ┆ diamond_count ┆ avg_price ┆ total_carats │\n",
            "│ ---     ┆ ---           ┆ ---       ┆ ---          │\n",
            "│ str     ┆ u32           ┆ f64       ┆ f64          │\n",
            "╞═════════╪═══════════════╪═══════════╪══════════════╡\n",
            "│ SI1     ┆ 2059          ┆ 8018.86   ┆ 2563.69      │\n",
            "│ VS2     ┆ 1575          ┆ 11809.05  ┆ 2170.81      │\n",
            "│ VS1     ┆ 1192          ┆ 13694.11  ┆ 1682.74      │\n",
            "│ VVS2    ┆ 666           ┆ 14142.18  ┆ 876.58       │\n",
            "│ VVS1    ┆ 285           ┆ 16845.68  ┆ 389.43       │\n",
            "│ IF      ┆ 219           ┆ 22105.84  ┆ 316.0        │\n",
            "│ FL      ┆ 4             ┆ 63776.0   ┆ 7.87         │\n",
            "└─────────┴───────────────┴───────────┴──────────────┘\n"
          ]
        },
        {
          "output_type": "stream",
          "name": "stderr",
          "text": [
            "/tmp/ipython-input-2606199912.py:6: DeprecationWarning: `pl.count()` is deprecated. Please use `pl.len()` instead.\n",
            "  pl.count().alias(\"diamond_count\"),\n"
          ]
        }
      ],
      "source": [
        "# Your code here:\n",
        "clarity_summary = (\n",
        "    df\n",
        "    .group_by(\"Clarity\")\n",
        "    .agg([\n",
        "        pl.count().alias(\"diamond_count\"),\n",
        "        pl.col(\"Price\").mean().round(2).alias(\"avg_price\"),\n",
        "        pl.col(\"Carat Weight\").sum().round(2).alias(\"total_carats\")\n",
        "    ])\n",
        "    .sort(\"diamond_count\", descending=True)\n",
        ")\n",
        "\n",
        "print(clarity_summary)"
      ]
    },
    {
      "cell_type": "markdown",
      "metadata": {
        "id": "0q_kXjE75as4"
      },
      "source": [
        "### Question 9: \"My luxury competitor claims they have the best prices for every cut-color combination. Show me our pricing structure across these combinations - I want to see where we're competitive.\""
      ]
    },
    {
      "cell_type": "code",
      "execution_count": 21,
      "metadata": {
        "id": "zQaKy4kU5as5",
        "colab": {
          "base_uri": "https://localhost:8080/"
        },
        "outputId": "97edf9f5-85d8-4e48-9110-2ac7b3927567"
      },
      "outputs": [
        {
          "output_type": "stream",
          "name": "stdout",
          "text": [
            "shape: (30, 5)\n",
            "┌───────────┬───────┬───────────────┬───────────┬──────────────┐\n",
            "│ Cut       ┆ Color ┆ diamond_count ┆ avg_price ┆ total_carats │\n",
            "│ ---       ┆ ---   ┆ ---           ┆ ---       ┆ ---          │\n",
            "│ str       ┆ str   ┆ u32           ┆ f64       ┆ f64          │\n",
            "╞═══════════╪═══════╪═══════════════╪═══════════╪══════════════╡\n",
            "│ Fair      ┆ D     ┆ 12            ┆ 6058.25   ┆ 12.46        │\n",
            "│ Fair      ┆ E     ┆ 32            ┆ 5370.63   ┆ 32.0         │\n",
            "│ Fair      ┆ F     ┆ 24            ┆ 6063.63   ┆ 24.2         │\n",
            "│ Fair      ┆ G     ┆ 21            ┆ 7345.52   ┆ 24.02        │\n",
            "│ Fair      ┆ H     ┆ 24            ┆ 5908.5    ┆ 27.03        │\n",
            "│ …         ┆ …     ┆ …             ┆ …         ┆ …            │\n",
            "│ Very Good ┆ E     ┆ 323           ┆ 12101.91  ┆ 401.61       │\n",
            "│ Very Good ┆ F     ┆ 455           ┆ 12413.91  ┆ 592.77       │\n",
            "│ Very Good ┆ G     ┆ 578           ┆ 12354.01  ┆ 795.4        │\n",
            "│ Very Good ┆ H     ┆ 424           ┆ 10056.11  ┆ 580.79       │\n",
            "│ Very Good ┆ I     ┆ 383           ┆ 8930.03   ┆ 540.33       │\n",
            "└───────────┴───────┴───────────────┴───────────┴──────────────┘\n"
          ]
        },
        {
          "output_type": "stream",
          "name": "stderr",
          "text": [
            "/tmp/ipython-input-3747843066.py:6: DeprecationWarning: `pl.count()` is deprecated. Please use `pl.len()` instead.\n",
            "  pl.count().alias(\"diamond_count\"),\n"
          ]
        }
      ],
      "source": [
        "# Your code here:\n",
        "pricing_structure = (\n",
        "    df\n",
        "    .group_by([\"Cut\", \"Color\"])\n",
        "    .agg([\n",
        "        pl.count().alias(\"diamond_count\"),\n",
        "        pl.col(\"Price\").mean().round(2).alias(\"avg_price\"),\n",
        "        pl.col(\"Carat Weight\").sum().round(2).alias(\"total_carats\")\n",
        "    ])\n",
        "    .sort([\"Cut\", \"Color\"])\n",
        ")\n",
        "\n",
        "print(pricing_structure)"
      ]
    },
    {
      "cell_type": "markdown",
      "metadata": {
        "id": "4GVDw_Se5as5"
      },
      "source": [
        "**Reflection:** How specific is your analysis now? What level of detail does each row represent?"
      ]
    },
    {
      "cell_type": "markdown",
      "metadata": {
        "id": "403qbpq-5as5"
      },
      "source": [
        "**Your answer:** New grain = Cut and color combinations and their respective data"
      ]
    },
    {
      "cell_type": "markdown",
      "metadata": {
        "id": "Wc3ngtKL5as5"
      },
      "source": [
        "### Question 10: URGENT - \"Our biggest client is interested in purchasing entire inventory segments. They asked: 'Which color-cut combinations represent your highest total inventory value?' Show me the top 5 most valuable inventory segments by total worth, and include how many diamonds are in each segment.\"\n",
        "\n",
        "This is critical for tomorrow's negotiation."
      ]
    },
    {
      "cell_type": "code",
      "execution_count": 22,
      "metadata": {
        "id": "wWj1jkM35as5",
        "colab": {
          "base_uri": "https://localhost:8080/"
        },
        "outputId": "c221bdf0-b3cd-4cac-d8a4-db7dc3fe24bd"
      },
      "outputs": [
        {
          "output_type": "stream",
          "name": "stdout",
          "text": [
            "shape: (5, 4)\n",
            "┌───────────┬───────┬───────────────────────┬───────────────┐\n",
            "│ Cut       ┆ Color ┆ total_inventory_value ┆ diamond_count │\n",
            "│ ---       ┆ ---   ┆ ---                   ┆ ---           │\n",
            "│ str       ┆ str   ┆ f64                   ┆ u32           │\n",
            "╞═══════════╪═══════╪═══════════════════════╪═══════════════╡\n",
            "│ Ideal     ┆ G     ┆ 1.6031e7              ┆ 690           │\n",
            "│ Very Good ┆ G     ┆ 1.2335e7              ┆ 578           │\n",
            "│ Very Good ┆ F     ┆ 9.4719e6              ┆ 455           │\n",
            "│ Ideal     ┆ D     ┆ 9.4040e6              ┆ 280           │\n",
            "│ Ideal     ┆ H     ┆ 9.2436e6              ┆ 458           │\n",
            "└───────────┴───────┴───────────────────────┴───────────────┘\n"
          ]
        },
        {
          "output_type": "stream",
          "name": "stderr",
          "text": [
            "/tmp/ipython-input-2047741213.py:14: DeprecationWarning: `pl.count()` is deprecated. Please use `pl.len()` instead.\n",
            "  pl.count().alias(\"diamond_count\")\n"
          ]
        }
      ],
      "source": [
        "# Your code here:\n",
        "\n",
        "\n",
        "df_new = df.with_columns(\n",
        "    (pl.col(\"Price\") * pl.col(\"Carat Weight\")).alias(\"inventory_value\")\n",
        ")\n",
        "\n",
        "# Group by cut and color, then aggregate\n",
        "top_segments = (\n",
        "    df_new\n",
        "    .group_by([\"Cut\", \"Color\"])\n",
        "    .agg([\n",
        "        pl.sum(\"inventory_value\").alias(\"total_inventory_value\"),\n",
        "        pl.count().alias(\"diamond_count\")\n",
        "    ])\n",
        "    .sort(\"total_inventory_value\", descending=True)\n",
        "    .head(5)\n",
        ")\n",
        "\n",
        "print(top_segments)"
      ]
    },
    {
      "cell_type": "markdown",
      "metadata": {
        "id": "qrAMEXKo5as5"
      },
      "source": [
        "## Debrief\n",
        "\n",
        "Congratulations! You've just completed your first day as the diamond company's data analyst.\n",
        "\n",
        "Remember:\n",
        "- CEOs speak in business language, not technical terms\n",
        "- Always understand what each row represents before analyzing\n",
        "- Business questions contain clues about which operations to use"
      ]
    }
  ],
  "metadata": {
    "kernelspec": {
      "display_name": "Python 3",
      "language": "python",
      "name": "python3"
    },
    "language_info": {
      "codemirror_mode": {
        "name": "ipython",
        "version": 3
      },
      "file_extension": ".py",
      "mimetype": "text/x-python",
      "name": "python",
      "nbconvert_exporter": "python",
      "pygments_lexer": "ipython3",
      "version": "3.12.0"
    },
    "colab": {
      "provenance": []
    }
  },
  "nbformat": 4,
  "nbformat_minor": 0
}